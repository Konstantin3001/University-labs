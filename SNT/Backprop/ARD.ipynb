{
 "cells": [
  {
   "cell_type": "code",
   "execution_count": null,
   "metadata": {
    "collapsed": true
   },
   "outputs": [],
   "source": [
    "import numpy as np\n",
    "from sklearn.linear_model import ARDRegression\n",
    "\n",
    "N = 30\n",
    "\n",
    "# данные о магазинах (в данном примере случайные)\n",
    "X = np.random.random(size=(N,N)) * 10 + 1\n",
    "\n",
    "# реальные коэффициенты [1 2 3 4 5 0 0 ... 0]\n",
    "w = np.zeros(N)\n",
    "w[:5] = np.arange(5) + 1\n",
    "\n",
    "# добавим случайную ошибку\n",
    "e = np.random.normal(0, 1, size=N)\n",
    "\n",
    "# данные о продажах\n",
    "Y = np.dot(X, w) + e\n",
    "\n",
    "ard = ARDRegression()\n",
    "ard.fit(X, Y)\n",
    "\n",
    "print ard.coef_"
   ]
  }
 ],
 "metadata": {
  "kernelspec": {
   "display_name": "Python 3",
   "language": "python",
   "name": "python3"
  },
  "language_info": {
   "codemirror_mode": {
    "name": "ipython",
    "version": 3
   },
   "file_extension": ".py",
   "mimetype": "text/x-python",
   "name": "python",
   "nbconvert_exporter": "python",
   "pygments_lexer": "ipython3",
   "version": "3.6.3"
  }
 },
 "nbformat": 4,
 "nbformat_minor": 2
}
